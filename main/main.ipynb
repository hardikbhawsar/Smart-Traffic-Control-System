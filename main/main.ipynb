{
 "cells": [
  {
   "cell_type": "markdown",
   "metadata": {
    "id": "ODW-D25vG3fB"
   },
   "source": [
    "### Load Modules\n"
   ]
  },
  {
   "cell_type": "code",
   "execution_count": null,
   "metadata": {
    "id": "q9-G6WS1Acuo"
   },
   "outputs": [],
   "source": [
    "# Mount Google drive \n",
    "from google.colab import drive\n",
    "drive.mount('/content/drive')\n",
    "\n",
    "# Set source of the project folder in drive\n",
    "source = \"<<Location to code dependencies in mounted google drive>>\"\n",
    "\n",
    "# Create a project folder.\n",
    "!mkdir ./Project\n",
    "# Copy all project data to this folder.\n",
    "!cp -R {source} ./Project\n",
    "\n",
    "# Change directory to projects/code\n",
    "%cd Project/Code/\n",
    "\n",
    "# Install required dependencies \n",
    "! pip install -q -r ./requirements-yolov3.txt > temp"
   ]
  },
  {
   "cell_type": "markdown",
   "metadata": {
    "id": "KplmYcN0HBXy"
   },
   "source": [
    "# Main"
   ]
  },
  {
   "cell_type": "code",
   "execution_count": null,
   "metadata": {
    "id": "0Pk8t_qRvwdW"
   },
   "outputs": [],
   "source": [
    "# This code was designed to be ran on Google Colab.\n",
    "\n",
    "%cd /content/Project/Code/\n",
    "#@title String fields\n",
    "video_1 = 'Video1' #@param [\"Video1\", \"Video2\", \"Video3\", \"Video4\", \"Video5\", \"Video6\", \"Video7\", \"Video8\" ]\n",
    "video_2 = 'Video2' #@param [\"Video1\", \"Video2\", \"Video3\", \"Video4\", \"Video5\", \"Video6\", \"Video7\", \"Video8\" ]\n",
    "video_3 = 'Video3' #@param [\"Video1\", \"Video2\", \"Video3\", \"Video4\", \"Video5\", \"Video6\", \"Video7\", \"Video8\" ]\n",
    "# video_4 = 'Video1' #@param [\"Video1\", \"Video2\", \"Video3\", \"Video4\", \"Video5\", \"Video6\", \"Video7\", \"Video8\" ]\n",
    "\n",
    "\n",
    "#@markdown  ---\n",
    "#@markdown  **Debug**\n",
    "# Counts = False #@param {type:\"boolean\"}\n",
    "Density = True #@param {type:\"boolean\"}\n",
    "Plot = False #@param {type:\"boolean\"}\n",
    "# Density = False\n",
    "# Plot = False\n",
    "\n",
    "#@markdown  ---\n",
    "# END of FORM\n",
    "\n",
    "# import necessary packages\n",
    "import numpy as np\n",
    "import cv2 as cv\n",
    "from Modules import yolov3\n",
    "from Modules import timer\n",
    "import matplotlib.pyplot as plt\n",
    "\n",
    "\n",
    "# Prepare input videos paths\n",
    "input_videos = [\n",
    "    f\"./Data/Test videos/{video}.mp4\" \n",
    "        for video in [\n",
    "            video_1, \n",
    "            video_2, \n",
    "            video_3\n",
    "        ]\n",
    "]\n",
    "\n",
    "# Load all 4 videos of each lane.\n",
    "frames = []\n",
    "for video_path in input_videos:\n",
    "    cap = cv.VideoCapture(video_path)\n",
    "\n",
    "    ret, frame = cap.read()\n",
    "    if ret:\n",
    "        frames.append(\n",
    "            cv.resize(frame, (416, 416) )\n",
    "        )\n",
    "    else:\n",
    "        print(\"[ERROR] : Some video(s) not loading properly.\")\n",
    "        raise ValueError\n",
    "\n",
    "# Plto the lanes using matplotlib if plot is checked\n",
    "if Plot:\n",
    "    fig, axs = plt.subplots(1, 3, figsize=(20, 10), sharey=True)    \n",
    "    axs[0].imshow(frames[0])\n",
    "    axs[1].imshow(frames[1])\n",
    "    axs[2].imshow(frames[2])\n",
    "\n",
    "# Once frames are processed,\n",
    "# use the detector to get the objects in the frames.\n",
    "result = yolov3.detect_multiple(frames)\n",
    "\n",
    "# Extract only the vehicles counts from detection results\n",
    "counts = []\n",
    "for i, res in enumerate(result):\n",
    "    # print(f\"Frame {i+1}: \")\n",
    "    count = {}\n",
    "    for key in res:\n",
    "        # print(\"   \", key, res[key][0])\n",
    "        count[key] = res[key][0]\n",
    "    counts.append(count)\n",
    "\n",
    "# Convert to density\n",
    "# For each frame get grand total of vehicles\n",
    "total_counts_per_lane = []\n",
    "conversion_dict = {\n",
    "    'truck': lambda x: x*5,\n",
    "    'bus': lambda x: x*4,\n",
    "    'car': lambda x: x*2,\n",
    "    'bike': lambda x: x\n",
    "}\n",
    "\n",
    "for count_dict in counts:\n",
    "    total_count = 0\n",
    "    for vType, count in count_dict.items():\n",
    "        total_count += conversion_dict[ vType ] ( count )\n",
    "    total_counts_per_lane.append(total_count)\n",
    "\n",
    "if Density:\n",
    "    print(\"[DEBUG]: Lane Densities: \")\n",
    "    for i in range(1, 4):\n",
    "        print(f\"   Lane {i}: \", total_counts_per_lane[i-1])\n",
    "\n",
    "timer.Timer().analyze(total_counts_per_lane[:3])\n",
    "\n"
   ]
  }
 ],
 "metadata": {
  "colab": {
   "name": "Final Project Compiled.ipynb",
   "provenance": []
  },
  "kernelspec": {
   "display_name": "Python 3",
   "language": "python",
   "name": "python3"
  },
  "language_info": {
   "codemirror_mode": {
    "name": "ipython",
    "version": 3
   },
   "file_extension": ".py",
   "mimetype": "text/x-python",
   "name": "python",
   "nbconvert_exporter": "python",
   "pygments_lexer": "ipython3",
   "version": "3.8.2"
  }
 },
 "nbformat": 4,
 "nbformat_minor": 1
}
